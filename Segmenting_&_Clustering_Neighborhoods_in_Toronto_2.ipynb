{
  "nbformat": 4,
  "nbformat_minor": 0,
  "metadata": {
    "colab": {
      "name": "Segmenting & Clustering Neighborhoods in Toronto - 2",
      "provenance": [],
      "collapsed_sections": [],
      "authorship_tag": "ABX9TyOghqBL/9YgXfGSiWDnsYTv",
      "include_colab_link": true
    },
    "kernelspec": {
      "name": "python3",
      "display_name": "Python 3"
    }
  },
  "cells": [
    {
      "cell_type": "markdown",
      "metadata": {
        "id": "view-in-github",
        "colab_type": "text"
      },
      "source": [
        "<a href=\"https://colab.research.google.com/github/kavsraj/Applied_Datascience_Capstone_Project/blob/master/Segmenting_%26_Clustering_Neighborhoods_in_Toronto_2.ipynb\" target=\"_parent\"><img src=\"https://colab.research.google.com/assets/colab-badge.svg\" alt=\"Open In Colab\"/></a>"
      ]
    },
    {
      "cell_type": "markdown",
      "metadata": {
        "id": "0yFyZ17-1bdi",
        "colab_type": "text"
      },
      "source": [
        "\n",
        "###**Segmenting & Clustering Neighborhoods in Toronto - 2**"
      ]
    },
    {
      "cell_type": "markdown",
      "metadata": {
        "id": "db2-_9Tq1aka",
        "colab_type": "text"
      },
      "source": [
        "#####Setting up the environment\n"
      ]
    },
    {
      "cell_type": "code",
      "metadata": {
        "id": "g2QQa8qW25nI",
        "colab_type": "code",
        "outputId": "079ddecd-c449-4c87-af7e-50a98b9433c1",
        "colab": {
          "base_uri": "https://localhost:8080/",
          "height": 136
        }
      },
      "source": [
        "import pandas as pd\n",
        "!pip -q install lxml\n",
        "\n",
        "!pip install requests\n",
        "import requests \n",
        "import io \n",
        "\n",
        "import numpy as np \n",
        "pd.set_option('display.max_columns', None)\n",
        "pd.set_option('display.max_rows', None)\n",
        "\n",
        "import json \n",
        "\n",
        "!conda install -c conda-forge geopy --yes \n",
        "from geopy.geocoders import Nominatim \n",
        "\n",
        "from pandas.io.json import json_normalize \n",
        "\n",
        "# Matplotlib and associated plotting modules\n",
        "import matplotlib.cm as cm\n",
        "import matplotlib.colors as colors\n",
        "\n",
        "# import k-means from clustering stage\n",
        "from sklearn.cluster import KMeans\n",
        "\n",
        "import folium # map rendering library\n",
        "from folium import plugins\n",
        "\n",
        "print('Libraries imported.')"
      ],
      "execution_count": 1,
      "outputs": [
        {
          "output_type": "stream",
          "text": [
            "Requirement already satisfied: requests in /usr/local/lib/python3.6/dist-packages (2.21.0)\n",
            "Requirement already satisfied: chardet<3.1.0,>=3.0.2 in /usr/local/lib/python3.6/dist-packages (from requests) (3.0.4)\n",
            "Requirement already satisfied: urllib3<1.25,>=1.21.1 in /usr/local/lib/python3.6/dist-packages (from requests) (1.24.3)\n",
            "Requirement already satisfied: certifi>=2017.4.17 in /usr/local/lib/python3.6/dist-packages (from requests) (2019.11.28)\n",
            "Requirement already satisfied: idna<2.9,>=2.5 in /usr/local/lib/python3.6/dist-packages (from requests) (2.8)\n",
            "/bin/bash: conda: command not found\n",
            "Libraries imported.\n"
          ],
          "name": "stdout"
        }
      ]
    },
    {
      "cell_type": "markdown",
      "metadata": {
        "id": "RKUR6ro129W4",
        "colab_type": "text"
      },
      "source": [
        "##### Scraping the webpage to obtain the data and create the Dataframe\n",
        "\n"
      ]
    },
    {
      "cell_type": "code",
      "metadata": {
        "id": "xd2cbF4O3b3U",
        "colab_type": "code",
        "outputId": "f4eed40d-106c-43ce-8b23-f6f0f398aa6b",
        "colab": {
          "base_uri": "https://localhost:8080/",
          "height": 359
        }
      },
      "source": [
        "df=pd.read_html(\"https://en.wikipedia.org/w/index.php?title=List_of_postal_codes_of_Canada:_M&oldid=890001695\")[0]\n",
        "df.head(10)"
      ],
      "execution_count": 2,
      "outputs": [
        {
          "output_type": "execute_result",
          "data": {
            "text/html": [
              "<div>\n",
              "<style scoped>\n",
              "    .dataframe tbody tr th:only-of-type {\n",
              "        vertical-align: middle;\n",
              "    }\n",
              "\n",
              "    .dataframe tbody tr th {\n",
              "        vertical-align: top;\n",
              "    }\n",
              "\n",
              "    .dataframe thead th {\n",
              "        text-align: right;\n",
              "    }\n",
              "</style>\n",
              "<table border=\"1\" class=\"dataframe\">\n",
              "  <thead>\n",
              "    <tr style=\"text-align: right;\">\n",
              "      <th></th>\n",
              "      <th>Postcode</th>\n",
              "      <th>Borough</th>\n",
              "      <th>Neighbourhood</th>\n",
              "    </tr>\n",
              "  </thead>\n",
              "  <tbody>\n",
              "    <tr>\n",
              "      <th>0</th>\n",
              "      <td>M1A</td>\n",
              "      <td>Not assigned</td>\n",
              "      <td>Not assigned</td>\n",
              "    </tr>\n",
              "    <tr>\n",
              "      <th>1</th>\n",
              "      <td>M2A</td>\n",
              "      <td>Not assigned</td>\n",
              "      <td>Not assigned</td>\n",
              "    </tr>\n",
              "    <tr>\n",
              "      <th>2</th>\n",
              "      <td>M3A</td>\n",
              "      <td>North York</td>\n",
              "      <td>Parkwoods</td>\n",
              "    </tr>\n",
              "    <tr>\n",
              "      <th>3</th>\n",
              "      <td>M4A</td>\n",
              "      <td>North York</td>\n",
              "      <td>Victoria Village</td>\n",
              "    </tr>\n",
              "    <tr>\n",
              "      <th>4</th>\n",
              "      <td>M5A</td>\n",
              "      <td>Downtown Toronto</td>\n",
              "      <td>Harbourfront</td>\n",
              "    </tr>\n",
              "    <tr>\n",
              "      <th>5</th>\n",
              "      <td>M5A</td>\n",
              "      <td>Downtown Toronto</td>\n",
              "      <td>Regent Park</td>\n",
              "    </tr>\n",
              "    <tr>\n",
              "      <th>6</th>\n",
              "      <td>M6A</td>\n",
              "      <td>North York</td>\n",
              "      <td>Lawrence Heights</td>\n",
              "    </tr>\n",
              "    <tr>\n",
              "      <th>7</th>\n",
              "      <td>M6A</td>\n",
              "      <td>North York</td>\n",
              "      <td>Lawrence Manor</td>\n",
              "    </tr>\n",
              "    <tr>\n",
              "      <th>8</th>\n",
              "      <td>M7A</td>\n",
              "      <td>Queen's Park</td>\n",
              "      <td>Not assigned</td>\n",
              "    </tr>\n",
              "    <tr>\n",
              "      <th>9</th>\n",
              "      <td>M8A</td>\n",
              "      <td>Not assigned</td>\n",
              "      <td>Not assigned</td>\n",
              "    </tr>\n",
              "  </tbody>\n",
              "</table>\n",
              "</div>"
            ],
            "text/plain": [
              "  Postcode           Borough     Neighbourhood\n",
              "0      M1A      Not assigned      Not assigned\n",
              "1      M2A      Not assigned      Not assigned\n",
              "2      M3A        North York         Parkwoods\n",
              "3      M4A        North York  Victoria Village\n",
              "4      M5A  Downtown Toronto      Harbourfront\n",
              "5      M5A  Downtown Toronto       Regent Park\n",
              "6      M6A        North York  Lawrence Heights\n",
              "7      M6A        North York    Lawrence Manor\n",
              "8      M7A      Queen's Park      Not assigned\n",
              "9      M8A      Not assigned      Not assigned"
            ]
          },
          "metadata": {
            "tags": []
          },
          "execution_count": 2
        }
      ]
    },
    {
      "cell_type": "markdown",
      "metadata": {
        "id": "V506FZwr3yPV",
        "colab_type": "text"
      },
      "source": [
        "#####Cleaning Data and arrive at desired output"
      ]
    },
    {
      "cell_type": "code",
      "metadata": {
        "id": "r23Svyrw1VKV",
        "colab_type": "code",
        "outputId": "4f8411be-998f-41fd-9e6b-bbb8823e502a",
        "colab": {
          "base_uri": "https://localhost:8080/",
          "height": 514
        }
      },
      "source": [
        "# Ignore cells with a borough that is 'Not assigned'.\n",
        "df = df[df.Borough != 'Not assigned']\n",
        "\n",
        "# Neighborhoods separated with a comma.\n",
        "df = df.groupby(['Postcode','Borough'])['Neighbourhood'].apply(lambda x:', '.join(x)).to_frame().reset_index()\n",
        "\n",
        "# Neighborhood same as the borough. \n",
        "for index, row in df.iterrows():\n",
        "    if row['Neighbourhood'] == 'Not assigned':\n",
        "        row['Neighbourhood'] = row['Borough']\n",
        "df.head(15)"
      ],
      "execution_count": 3,
      "outputs": [
        {
          "output_type": "execute_result",
          "data": {
            "text/html": [
              "<div>\n",
              "<style scoped>\n",
              "    .dataframe tbody tr th:only-of-type {\n",
              "        vertical-align: middle;\n",
              "    }\n",
              "\n",
              "    .dataframe tbody tr th {\n",
              "        vertical-align: top;\n",
              "    }\n",
              "\n",
              "    .dataframe thead th {\n",
              "        text-align: right;\n",
              "    }\n",
              "</style>\n",
              "<table border=\"1\" class=\"dataframe\">\n",
              "  <thead>\n",
              "    <tr style=\"text-align: right;\">\n",
              "      <th></th>\n",
              "      <th>Postcode</th>\n",
              "      <th>Borough</th>\n",
              "      <th>Neighbourhood</th>\n",
              "    </tr>\n",
              "  </thead>\n",
              "  <tbody>\n",
              "    <tr>\n",
              "      <th>0</th>\n",
              "      <td>M1B</td>\n",
              "      <td>Scarborough</td>\n",
              "      <td>Rouge, Malvern</td>\n",
              "    </tr>\n",
              "    <tr>\n",
              "      <th>1</th>\n",
              "      <td>M1C</td>\n",
              "      <td>Scarborough</td>\n",
              "      <td>Highland Creek, Rouge Hill, Port Union</td>\n",
              "    </tr>\n",
              "    <tr>\n",
              "      <th>2</th>\n",
              "      <td>M1E</td>\n",
              "      <td>Scarborough</td>\n",
              "      <td>Guildwood, Morningside, West Hill</td>\n",
              "    </tr>\n",
              "    <tr>\n",
              "      <th>3</th>\n",
              "      <td>M1G</td>\n",
              "      <td>Scarborough</td>\n",
              "      <td>Woburn</td>\n",
              "    </tr>\n",
              "    <tr>\n",
              "      <th>4</th>\n",
              "      <td>M1H</td>\n",
              "      <td>Scarborough</td>\n",
              "      <td>Cedarbrae</td>\n",
              "    </tr>\n",
              "    <tr>\n",
              "      <th>5</th>\n",
              "      <td>M1J</td>\n",
              "      <td>Scarborough</td>\n",
              "      <td>Scarborough Village</td>\n",
              "    </tr>\n",
              "    <tr>\n",
              "      <th>6</th>\n",
              "      <td>M1K</td>\n",
              "      <td>Scarborough</td>\n",
              "      <td>East Birchmount Park, Ionview, Kennedy Park</td>\n",
              "    </tr>\n",
              "    <tr>\n",
              "      <th>7</th>\n",
              "      <td>M1L</td>\n",
              "      <td>Scarborough</td>\n",
              "      <td>Clairlea, Golden Mile, Oakridge</td>\n",
              "    </tr>\n",
              "    <tr>\n",
              "      <th>8</th>\n",
              "      <td>M1M</td>\n",
              "      <td>Scarborough</td>\n",
              "      <td>Cliffcrest, Cliffside, Scarborough Village West</td>\n",
              "    </tr>\n",
              "    <tr>\n",
              "      <th>9</th>\n",
              "      <td>M1N</td>\n",
              "      <td>Scarborough</td>\n",
              "      <td>Birch Cliff, Cliffside West</td>\n",
              "    </tr>\n",
              "    <tr>\n",
              "      <th>10</th>\n",
              "      <td>M1P</td>\n",
              "      <td>Scarborough</td>\n",
              "      <td>Dorset Park, Scarborough Town Centre, Wexford ...</td>\n",
              "    </tr>\n",
              "    <tr>\n",
              "      <th>11</th>\n",
              "      <td>M1R</td>\n",
              "      <td>Scarborough</td>\n",
              "      <td>Maryvale, Wexford</td>\n",
              "    </tr>\n",
              "    <tr>\n",
              "      <th>12</th>\n",
              "      <td>M1S</td>\n",
              "      <td>Scarborough</td>\n",
              "      <td>Agincourt</td>\n",
              "    </tr>\n",
              "    <tr>\n",
              "      <th>13</th>\n",
              "      <td>M1T</td>\n",
              "      <td>Scarborough</td>\n",
              "      <td>Clarks Corners, Sullivan, Tam O'Shanter</td>\n",
              "    </tr>\n",
              "    <tr>\n",
              "      <th>14</th>\n",
              "      <td>M1V</td>\n",
              "      <td>Scarborough</td>\n",
              "      <td>Agincourt North, L'Amoreaux East, Milliken, St...</td>\n",
              "    </tr>\n",
              "  </tbody>\n",
              "</table>\n",
              "</div>"
            ],
            "text/plain": [
              "   Postcode      Borough                                      Neighbourhood\n",
              "0       M1B  Scarborough                                     Rouge, Malvern\n",
              "1       M1C  Scarborough             Highland Creek, Rouge Hill, Port Union\n",
              "2       M1E  Scarborough                  Guildwood, Morningside, West Hill\n",
              "3       M1G  Scarborough                                             Woburn\n",
              "4       M1H  Scarborough                                          Cedarbrae\n",
              "5       M1J  Scarborough                                Scarborough Village\n",
              "6       M1K  Scarborough        East Birchmount Park, Ionview, Kennedy Park\n",
              "7       M1L  Scarborough                    Clairlea, Golden Mile, Oakridge\n",
              "8       M1M  Scarborough    Cliffcrest, Cliffside, Scarborough Village West\n",
              "9       M1N  Scarborough                        Birch Cliff, Cliffside West\n",
              "10      M1P  Scarborough  Dorset Park, Scarborough Town Centre, Wexford ...\n",
              "11      M1R  Scarborough                                  Maryvale, Wexford\n",
              "12      M1S  Scarborough                                          Agincourt\n",
              "13      M1T  Scarborough            Clarks Corners, Sullivan, Tam O'Shanter\n",
              "14      M1V  Scarborough  Agincourt North, L'Amoreaux East, Milliken, St..."
            ]
          },
          "metadata": {
            "tags": []
          },
          "execution_count": 3
        }
      ]
    },
    {
      "cell_type": "markdown",
      "metadata": {
        "id": "KFrpLOViCd7o",
        "colab_type": "text"
      },
      "source": [
        "#####get the latitude & longitude coordinates of each neighborhood & display the Dataframe"
      ]
    },
    {
      "cell_type": "code",
      "metadata": {
        "id": "iZ4IA0MQCmCY",
        "colab_type": "code",
        "colab": {}
      },
      "source": [
        "url1=\"http://cocl.us/Geospatial_data\"\n",
        "req=requests.get(url1).content\n",
        "dec=pd.read_csv(io.StringIO(req.decode('utf-8')))dec.columns = ['Postcode', 'Latitude', 'Longitude']\n",
        "df = pd.merge(dec, df, on='Postcode')\n",
        "\n",
        "df = df[['Postcode', 'Borough', 'Neighbourhood', 'Latitude', 'Longitude']]\n",
        "df"
      ],
      "execution_count": 0,
      "outputs": []
    }
  ]
}